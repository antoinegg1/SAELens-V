{
 "cells": [
  {
   "cell_type": "code",
   "execution_count": 57,
   "metadata": {},
   "outputs": [
    {
     "name": "stderr",
     "output_type": "stream",
     "text": [
      "/tmp/ipykernel_2828770/3877639395.py:8: FutureWarning: You are using `torch.load` with `weights_only=False` (the current default value), which uses the default pickle module implicitly. It is possible to construct malicious pickle data which will execute arbitrary code during unpickling (See https://github.com/pytorch/pytorch/blob/main/SECURITY.md#untrusted-models for more details). In a future release, the default value for `weights_only` will be flipped to `True`. This limits the functions that could be executed during unpickling. Arbitrary objects will no longer be allowed to be loaded via this mode unless they are explicitly allowlisted by the user via `torch.serialization.add_safe_globals`. We recommend you start setting `weights_only=True` for any use case where you don't have full control of the loaded file. Please open an issue on GitHub for any issues related to this experimental feature.\n",
      "  data = torch.load(file_path)\n"
     ]
    }
   ],
   "source": [
    "import torch\n",
    "from datasets import Dataset, DatasetDict, IterableDataset, load_dataset,load_from_disk\n",
    "import hashlib\n",
    "# 示例文件路径\n",
    "file_path = \"/data/changye/data/RLAIF-V_interp/RLAIFV_l0.pt\"\n",
    "\n",
    "# 读取 .pt 文件\n",
    "data = torch.load(file_path)\n",
    "\n",
    "\n"
   ]
  },
  {
   "cell_type": "code",
   "execution_count": 54,
   "metadata": {},
   "outputs": [
    {
     "name": "stdout",
     "output_type": "stream",
     "text": [
      "<class 'dict'>\n",
      "{'OmniLMM-12B_OmniLMM-12B_3388', 'OmniLMM-12B_OmniLMM-12B_3386', 'OmniLMM-12B_OmniLMM-12B_3394', 'OmniLMM-12B_OmniLMM-12B_3387', 'OmniLMM-12B_OmniLMM-12B_3390', 'OmniLMM-12B_OmniLMM-12B_3393', 'OmniLMM-12B_OmniLMM-12B_3389', 'OmniLMM-12B_OmniLMM-12B_3396', 'OmniLMM-12B_OmniLMM-12B_3391', 'OmniLMM-12B_OmniLMM-12B_3397', 'OmniLMM-12B_OmniLMM-12B_3398', 'OmniLMM-12B_OmniLMM-12B_3395', 'OmniLMM-12B_OmniLMM-12B_3392', 'OmniLMM-12B_OmniLMM-12B_3399'}\n",
      "tensor(136.6045, device='cuda:5')\n",
      "tensor(167.7956, device='cuda:5')\n"
     ]
    }
   ],
   "source": [
    "# 查看数据\n",
    "print(type(data[0]))  # 查看数据类型\n",
    "# print(len(data[0].keys()))   # 打印数据内容（可能是张量、字典、列表等）\n",
    "# print(data[0].keys())\n",
    "# print(data[1].keys())\n",
    "common_keys = set(data[0].keys()) & set(data[1].keys())\n",
    "print(common_keys)\n",
    "print(data[0]['OmniLMM-12B_OmniLMM-12B_3392'])\n",
    "print(data[1]['OmniLMM-12B_OmniLMM-12B_3392'])"
   ]
  },
  {
   "cell_type": "code",
   "execution_count": null,
   "metadata": {},
   "outputs": [],
   "source": [
    "# data_list={}\n",
    "# for data_l in data:\n",
    "#     for dic in data_l.keys():\n",
    "#         data_list[dic]=data_l[dic]"
   ]
  },
  {
   "cell_type": "code",
   "execution_count": null,
   "metadata": {},
   "outputs": [
    {
     "name": "stdout",
     "output_type": "stream",
     "text": [
      "23861\n",
      "23861\n"
     ]
    }
   ],
   "source": [
    "# print(len(data_list))\n",
    "# print(len(data_list.keys()))"
   ]
  },
  {
   "cell_type": "code",
   "execution_count": null,
   "metadata": {},
   "outputs": [
    {
     "data": {
      "application/vnd.jupyter.widget-view+json": {
       "model_id": "058f6ac11ef349cfa4ef06425dd78eee",
       "version_major": 2,
       "version_minor": 0
      },
      "text/plain": [
       "Generating train split: 0 examples [00:00, ? examples/s]"
      ]
     },
     "metadata": {},
     "output_type": "display_data"
    }
   ],
   "source": [
    "dataset_path=\"/data/changye/data/RLAIF-V-Dataset\"\n",
    "train_dataset = load_dataset(\n",
    "            dataset_path,\n",
    "            trust_remote_code=True,\n",
    "        )"
   ]
  },
  {
   "cell_type": "code",
   "execution_count": 61,
   "metadata": {},
   "outputs": [],
   "source": [
    "def generate_text_hash(text: str) -> str:\n",
    "    \"\"\"\n",
    "    Generate a unique identifier for the given text using SHA-256.\n",
    "\n",
    "    Args:\n",
    "        text (str): Input text.\n",
    "\n",
    "    Returns:\n",
    "        str: Unique hash for the text.\n",
    "    \"\"\"\n",
    "    hash_object = hashlib.sha256(text.encode('utf-8'))\n",
    "    return hash_object.hexdigest()\n",
    "\n"
   ]
  },
  {
   "cell_type": "code",
   "execution_count": 62,
   "metadata": {},
   "outputs": [
    {
     "data": {
      "application/vnd.jupyter.widget-view+json": {
       "model_id": "aa976b690c964ac7ab272139909cc4ce",
       "version_major": 2,
       "version_minor": 0
      },
      "text/plain": [
       "Map:   0%|          | 0/83132 [00:00<?, ? examples/s]"
      ]
     },
     "metadata": {},
     "output_type": "display_data"
    }
   ],
   "source": [
    "def add_question_hash(example):\n",
    "    example['question_hash'] = generate_text_hash(example['question'])\n",
    "    return example\n",
    "\n",
    "# 假设 train_dataset 是 DatasetDict 类型，直接应用 map 方法\n",
    "updated_train_dataset = train_dataset.map(\n",
    "    add_question_hash,\n",
    "    batched=False,  # 对每一行单独处理\n",
    "    load_from_cache_file=False  # 如果修改数据，关闭缓存加载\n",
    ")"
   ]
  },
  {
   "cell_type": "code",
   "execution_count": 65,
   "metadata": {},
   "outputs": [
    {
     "name": "stdout",
     "output_type": "stream",
     "text": [
      "DatasetDict({\n",
      "    train: Dataset({\n",
      "        features: ['ds_name', 'image', 'question', 'chosen', 'rejected', 'origin_dataset', 'origin_split', 'idx', 'image_path', 'question_hash'],\n",
      "        num_rows: 83132\n",
      "    })\n",
      "})\n"
     ]
    }
   ],
   "source": [
    "print(updated_train_dataset)\n",
    "idx_list=updated_train_dataset['train']['idx']\n",
    "hash_list=updated_train_dataset['train']['question_hash']\n",
    "data_idx_list=[]\n",
    "data_value_list=[]\n",
    "for data_l in data:\n",
    "    for dic in data_l.keys():\n",
    "        data_idx_list.append(dic)\n",
    "        data_value_list.append(data_l[dic])"
   ]
  },
  {
   "cell_type": "code",
   "execution_count": 69,
   "metadata": {},
   "outputs": [
    {
     "name": "stdout",
     "output_type": "stream",
     "text": [
      "8\n",
      "10\n",
      "12\n",
      "19\n",
      "20\n",
      "29\n",
      "42\n",
      "45\n",
      "48\n",
      "52\n",
      "62\n",
      "76\n"
     ]
    }
   ],
   "source": [
    "for i,data_l in enumerate(data):\n",
    "    if len(data_l)==1000:\n",
    "        continue\n",
    "    print(i)"
   ]
  },
  {
   "cell_type": "code",
   "execution_count": 67,
   "metadata": {},
   "outputs": [
    {
     "name": "stdout",
     "output_type": "stream",
     "text": [
      "81714\n",
      "83132\n"
     ]
    }
   ],
   "source": [
    "print(len(data_idx_list))\n",
    "print(len(idx_list))"
   ]
  },
  {
   "cell_type": "code",
   "execution_count": 27,
   "metadata": {},
   "outputs": [
    {
     "data": {
      "application/vnd.jupyter.widget-view+json": {
       "model_id": "62a5bda0f4b44701827e193bd1afd4bf",
       "version_major": 2,
       "version_minor": 0
      },
      "text/plain": [
       "Filter:   0%|          | 0/93258 [00:00<?, ? examples/s]"
      ]
     },
     "metadata": {},
     "output_type": "display_data"
    },
    {
     "data": {
      "application/vnd.jupyter.widget-view+json": {
       "model_id": "0ca752f9de8e46c88e4b4a2d99494c64",
       "version_major": 2,
       "version_minor": 0
      },
      "text/plain": [
       "Saving the dataset (0/2 shards):   0%|          | 0/22449 [00:00<?, ? examples/s]"
      ]
     },
     "metadata": {},
     "output_type": "display_data"
    },
    {
     "name": "stdout",
     "output_type": "stream",
     "text": [
      "Saved 25% dataset with 22449 samples.\n"
     ]
    },
    {
     "data": {
      "application/vnd.jupyter.widget-view+json": {
       "model_id": "6c6b908420eb44dca55e15ce84ac0324",
       "version_major": 2,
       "version_minor": 0
      },
      "text/plain": [
       "Filter:   0%|          | 0/93258 [00:00<?, ? examples/s]"
      ]
     },
     "metadata": {},
     "output_type": "display_data"
    },
    {
     "data": {
      "application/vnd.jupyter.widget-view+json": {
       "model_id": "5b9b78f289ce496faf8a6fe2d7f04719",
       "version_major": 2,
       "version_minor": 0
      },
      "text/plain": [
       "Saving the dataset (0/2 shards):   0%|          | 0/22450 [00:00<?, ? examples/s]"
      ]
     },
     "metadata": {},
     "output_type": "display_data"
    },
    {
     "name": "stdout",
     "output_type": "stream",
     "text": [
      "Saved 50% dataset with 22450 samples.\n"
     ]
    },
    {
     "data": {
      "application/vnd.jupyter.widget-view+json": {
       "model_id": "ffa03d0402db4fd9987c346f7115a134",
       "version_major": 2,
       "version_minor": 0
      },
      "text/plain": [
       "Filter:   0%|          | 0/93258 [00:00<?, ? examples/s]"
      ]
     },
     "metadata": {},
     "output_type": "display_data"
    },
    {
     "data": {
      "application/vnd.jupyter.widget-view+json": {
       "model_id": "da09ae021ec2423aa386d87f04d1b97f",
       "version_major": 2,
       "version_minor": 0
      },
      "text/plain": [
       "Saving the dataset (0/2 shards):   0%|          | 0/22449 [00:00<?, ? examples/s]"
      ]
     },
     "metadata": {},
     "output_type": "display_data"
    },
    {
     "name": "stdout",
     "output_type": "stream",
     "text": [
      "Saved 75% dataset with 22449 samples.\n"
     ]
    },
    {
     "data": {
      "application/vnd.jupyter.widget-view+json": {
       "model_id": "2eab6b4882ce4fac8ae6e9e476520336",
       "version_major": 2,
       "version_minor": 0
      },
      "text/plain": [
       "Filter:   0%|          | 0/93258 [00:00<?, ? examples/s]"
      ]
     },
     "metadata": {},
     "output_type": "display_data"
    },
    {
     "data": {
      "application/vnd.jupyter.widget-view+json": {
       "model_id": "39ebd61d9a1b4b47ab115f7ed56095fc",
       "version_major": 2,
       "version_minor": 0
      },
      "text/plain": [
       "Saving the dataset (0/2 shards):   0%|          | 0/22450 [00:00<?, ? examples/s]"
      ]
     },
     "metadata": {},
     "output_type": "display_data"
    },
    {
     "name": "stdout",
     "output_type": "stream",
     "text": [
      "Saved 100% dataset with 22450 samples.\n"
     ]
    }
   ],
   "source": [
    "#我现在有一个dict，键为'image_name'，值为一个浮点数，我希望按照值的大小进行排序，然后我有一个数据集以'image_name'为索引，结构为Dataset({\n",
    "#     features: ['image', 'question', 'chosen', 'rejected', 'image_name'],\n",
    "#     num_rows: 93258\n",
    "# })\n",
    "#我希望能够按照这个排序对这个dataset进行筛选保存，能够保存前25%，25%到50%这样按百分比保存的值，以huggingfacedataset的形式存储，请补全以下代码\n",
    "# Step 1: Sort image_names based on their corresponding values in 'data'\n",
    "sorted_image_names = sorted(data_list, key=data_list.get, reverse=True)\n",
    "\n",
    "# Step 2: Compute indices for the percentiles\n",
    "total_images = len(sorted_image_names)\n",
    "percentiles = [0.25, 0.5, 0.75, 1.0]\n",
    "indices = [int(total_images * p) for p in percentiles]\n",
    "\n",
    "# Step 3: Create ranges for each percentile\n",
    "start_indices = [0] + indices[:-1]\n",
    "end_indices = indices\n",
    "ranges = list(zip(start_indices, end_indices))\n",
    "\n",
    "# Step 4: Filter and save datasets for each percentile range\n",
    "for idx, (start, end) in enumerate(ranges):\n",
    "    # Get the image_names for the current percentile range\n",
    "    image_name_set = set(sorted_image_names[start:end])\n",
    "\n",
    "    # Filter the dataset based on the image_name_set\n",
    "    percentile_dataset = train_dataset.filter(lambda example: example['image_name'] in image_name_set)\n",
    "\n",
    "    # Save the filtered dataset\n",
    "    percentile_label = f\"{int(percentiles[idx]*100)}%\"\n",
    "    percentile_dataset.save_to_disk(f'percentile_{percentile_label}_dataset')\n",
    "\n",
    "    print(f\"Saved {percentile_label} dataset with {len(percentile_dataset)} samples.\")"
   ]
  },
  {
   "cell_type": "code",
   "execution_count": 31,
   "metadata": {},
   "outputs": [
    {
     "name": "stdout",
     "output_type": "stream",
     "text": [
      "19155.png\n",
      "tensor(204.1465, device='cuda:5')\n"
     ]
    }
   ],
   "source": [
    "print(sorted_image_names[1])\n",
    "print(data_list['19155.png'])"
   ]
  },
  {
   "cell_type": "code",
   "execution_count": 40,
   "metadata": {},
   "outputs": [
    {
     "name": "stderr",
     "output_type": "stream",
     "text": [
      "/tmp/ipykernel_2828770/3307676455.py:35: UserWarning: No artists with labels found to put in legend.  Note that artists whose label start with an underscore are ignored when legend() is called with no argument.\n",
      "  plt.legend(fontsize=12)\n"
     ]
    },
    {
     "data": {
      "image/png": "[encoded data removed]",
      "text/plain": [
       "<Figure size 800x600 with 1 Axes>"
      ]
     },
     "metadata": {},
     "output_type": "display_data"
    }
   ],
   "source": [
    "import matplotlib.pyplot as plt\n",
    "import numpy as np\n",
    "import matplotlib.pyplot as plt\n",
    "import numpy as np\n",
    "from scipy.interpolate import make_interp_spline\n",
    "from collections import Counter\n",
    "\n",
    "# 假设 data_list 是一个包含数值的列表\n",
    "# 例如：\n",
    "# data_list = [1, 2, 2, 3, 3, 3, 4, 4, 4, 4]\n",
    "values_list = [tensor.cpu().item() if tensor.is_cuda else tensor.item() for tensor in data_list.values()]\n",
    "# 统计频率\n",
    "num_bins = 10\n",
    "\n",
    "# 生成直方图\n",
    "frequencies, bin_edges = np.histogram(values_list, bins=num_bins)\n",
    "\n",
    "# 计算每个区间的中心点（用于插值）\n",
    "bin_centers = (bin_edges[:-1] + bin_edges[1:]) / 2\n",
    "\n",
    "# 使用样条插值将直方图转换为平滑曲线\n",
    "bin_centers_smooth = np.linspace(bin_centers[0], bin_centers[-1], 300)  # 插值点\n",
    "frequencies_smooth = make_interp_spline(bin_centers, frequencies)(bin_centers_smooth)\n",
    "\n",
    "# 绘图\n",
    "plt.figure(figsize=(8, 6))\n",
    "plt.plot(bin_centers_smooth, frequencies_smooth, color='orange', lw=2)\n",
    "\n",
    "\n",
    "# 样式设置\n",
    "plt.grid(which='both', linestyle='--', linewidth=0.5, alpha=0.7)\n",
    "plt.xlabel('L0 of data', fontsize=14)\n",
    "plt.ylabel('Frequency', fontsize=14)\n",
    "plt.title('The distribution of SPA-VL based on L0', fontsize=16)\n",
    "plt.legend(fontsize=12)\n",
    "plt.show()\n"
   ]
  }
 ],
 "metadata": {
  "kernelspec": {
   "display_name": "sae",
   "language": "python",
   "name": "python3"
  },
  "language_info": {
   "codemirror_mode": {
    "name": "ipython",
    "version": 3
   },
   "file_extension": ".py",
   "mimetype": "text/x-python",
   "name": "python",
   "nbconvert_exporter": "python",
   "pygments_lexer": "ipython3",
   "version": "3.10.9"
  }
 },
 "nbformat": 4,
 "nbformat_minor": 2
}
