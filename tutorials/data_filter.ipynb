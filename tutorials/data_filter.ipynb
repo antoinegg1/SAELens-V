{
 "cells": [
  {
   "cell_type": "code",
   "execution_count": 12,
   "metadata": {},
   "outputs": [
    {
     "name": "stderr",
     "output_type": "stream",
     "text": [
      "/tmp/ipykernel_2734519/2373019294.py:11: FutureWarning: You are using `torch.load` with `weights_only=False` (the current default value), which uses the default pickle module implicitly. It is possible to construct malicious pickle data which will execute arbitrary code during unpickling (See https://github.com/pytorch/pytorch/blob/main/SECURITY.md#untrusted-models for more details). In a future release, the default value for `weights_only` will be flipped to `True`. This limits the functions that could be executed during unpickling. Arbitrary objects will no longer be allowed to be loaded via this mode unless they are explicitly allowlisted by the user via `torch.serialization.add_safe_globals`. We recommend you start setting `weights_only=True` for any use case where you don't have full control of the loaded file. Please open an issue on GitHub for any issues related to this experimental feature.\n",
      "  data = torch.load(file_path)\n"
     ]
    }
   ],
   "source": [
    "import torch\n",
    "from datasets import Dataset, DatasetDict, IterableDataset, load_dataset,load_from_disk\n",
    "import hashlib\n",
    "import os\n",
    "import tqdm\n",
    "# 示例文件路径\n",
    "file_path = \"/mnt/file2/changye/dataset/interp/CompCap-gpt4_coocur.pt\"\n",
    "\n",
    "os.environ['HF_DATASETS_CACHE']='/mnt/file2/changye/tmp'\n",
    "# 读取 .pt 文件\n",
    "data = torch.load(file_path)\n",
    "\n",
    "dataset_path=\"/mnt/file2/changye/dataset/CompCap-gpt4/data\"\n",
    "train_dataset = load_dataset(\n",
    "            dataset_path,\n",
    "            split=\"train\",\n",
    "            trust_remote_code=True,\n",
    "        )\n"
   ]
  },
  {
   "cell_type": "code",
   "execution_count": 13,
   "metadata": {},
   "outputs": [
    {
     "name": "stdout",
     "output_type": "stream",
     "text": [
      "Dataset({\n",
      "    features: ['id', 'image', 'conversations'],\n",
      "    num_rows: 109686\n",
      "})\n"
     ]
    }
   ],
   "source": [
    "print(train_dataset)\n"
   ]
  },
  {
   "cell_type": "code",
   "execution_count": 14,
   "metadata": {},
   "outputs": [
    {
     "name": "stdout",
     "output_type": "stream",
     "text": [
      "Dataset({\n",
      "    features: ['id', 'image', 'conversations'],\n",
      "    num_rows: 109686\n",
      "})\n"
     ]
    }
   ],
   "source": [
    "# 定义需要保留的列\n",
    "columns_to_keep = [ 'id',\"image\", \"conversations\"]\n",
    "\n",
    "# 使用 remove_columns 移除不需要的列\n",
    "train_dataset = train_dataset.remove_columns([col for col in train_dataset.column_names if col not in columns_to_keep])\n",
    "\n",
    "# 打印结果\n",
    "print(train_dataset)\n"
   ]
  },
  {
   "cell_type": "code",
   "execution_count": 15,
   "metadata": {},
   "outputs": [],
   "source": [
    "\n",
    "data_list=[]\n",
    "for data_l in data:\n",
    "    keys=list(data_l.keys())\n",
    "    for key in keys:\n",
    "        data_list.append((key,data_l[key]))\n"
   ]
  },
  {
   "cell_type": "code",
   "execution_count": 16,
   "metadata": {},
   "outputs": [
    {
     "name": "stdout",
     "output_type": "stream",
     "text": [
      "104996\n",
      "('bd1bd47778dc2a3cd65e894554b6b4913f8d24cf7ea91a1ebbc348e7c8278bab', [6664, 21001, 62987, 37392, 13849, 41502, 47650, 50726, 22058, 39472, 28210, 32825, 57401, 11840, 11849, 20044, 59982, 53326, 65103, 38998, 21082, 21092, 26222, 29808, 115, 39541, 1142, 46716, 46217, 25226, 20112, 57493, 46236, 2205, 46749, 13471, 65181, 59044, 19625, 48299, 37550, 27823, 4276, 48820, 58038, 57541, 8390, 15047, 56521, 43217, 23763, 43732, 37607, 58601, 28909, 56563, 14068, 22260, 6904, 50428, 45309, 20222, 51456, 34049, 9474, 25357, 45326, 5391, 18194, 20243, 59673, 37666, 10024, 62250, 1835, 14122, 9008, 3376, 7474, 23861, 62776, 3398, 35144, 4939, 19790, 51024, 58196, 28504, 44378, 63837, 4449, 63852, 50031, 12668, 30076, 63868, 52607, 6524, 34177, 11650, 47996, 43908, 3978, 11663, 17297, 48017, 18325, 23958, 19352, 10137, 57754, 54684, 29597, 22940, 53663, 32164, 26538, 62378, 45996, 44466, 57271, 49080, 5566, 60864, 4547, 22979, 36805, 37829, 53191, 45516, 3533, 50643, 22997, 51672, 63448, 19940, 23526, 11243, 13299, 28148, 38390])\n"
     ]
    }
   ],
   "source": [
    "print(len(data_list))\n",
    "print(data_list[0]) "
   ]
  },
  {
   "cell_type": "code",
   "execution_count": 17,
   "metadata": {},
   "outputs": [],
   "source": [
    "def generate_text_hash(text: str) -> str:\n",
    "    \"\"\"\n",
    "    Generate a unique identifier for the given text using SHA-256.\n",
    "\n",
    "    Args:\n",
    "        text (str): Input text.\n",
    "\n",
    "    Returns:\n",
    "        str: Unique hash for the text.\n",
    "    \"\"\"\n",
    "    hash_object = hashlib.sha256(text.encode('utf-8'))\n",
    "    return hash_object.hexdigest()"
   ]
  },
  {
   "cell_type": "code",
   "execution_count": 18,
   "metadata": {},
   "outputs": [
    {
     "name": "stderr",
     "output_type": "stream",
     "text": [
      "Processing data_list: 0item [00:00, ?item/s]"
     ]
    },
    {
     "name": "stderr",
     "output_type": "stream",
     "text": [
      "Processing data_list: 109686item [00:08, 13379.93item/s]\n",
      "Processing data_list: 100%|██████████| 104996/104996 [00:10<00:00, 9717.56item/s] \n"
     ]
    }
   ],
   "source": [
    "dataset_dict = {}\n",
    "for j, item in tqdm.tqdm(enumerate(train_dataset), desc=\"Processing data_list\", unit=\"item\"):\n",
    "    key = generate_text_hash(item['conversations'][0][\"value\"]+item['conversations'][1][\"value\"])\n",
    "    if key not in dataset_dict:\n",
    "        dataset_dict[key] = []\n",
    "    dataset_dict[key].append(j)  # 记录每个idx对应的所有匹配位置\n",
    "\n",
    "# 2. 生成 formatted_dataset，确保按照顺序匹配\n",
    "formatted_dataset = []\n",
    "index_set = set()  # 用来记录已经匹配过的 train_dataset 索引\n",
    "\n",
    "# 使用 tqdm 显示进度条\n",
    "for i in tqdm.tqdm(range(len(data_list)), desc=\"Processing data_list\", unit=\"item\"):\n",
    "    key_datalist, value_datalist = data_list[i]\n",
    "    \n",
    "    # 查找是否存在匹配的key\n",
    "    if key_datalist in dataset_dict:\n",
    "        # 遍历匹配的索引\n",
    "        for j in dataset_dict[key_datalist]:\n",
    "            if j not in index_set:  # 如果该项未匹配过\n",
    "                # 如果匹配，则将 value 从 data_list 加到 train_dataset 项中\n",
    "                new_item = train_dataset[j].copy()  # 拷贝 train_dataset 项\n",
    "                new_item[\"cooccur_score\"] = value_datalist\n",
    "                formatted_dataset.append(new_item)\n",
    "                \n",
    "                # 将已匹配的索引添加到 index_set\n",
    "                index_set.add(j)\n",
    "                break  # 找到一个匹配就跳出内层循环，继续下一个 data_list 的元素\n"
   ]
  },
  {
   "cell_type": "code",
   "execution_count": 19,
   "metadata": {},
   "outputs": [
    {
     "name": "stdout",
     "output_type": "stream",
     "text": [
      "104996\n",
      "[6664, 21001, 62987, 37392, 13849, 41502, 47650, 50726, 22058, 39472, 28210, 32825, 57401, 11840, 11849, 20044, 59982, 53326, 65103, 38998, 21082, 21092, 26222, 29808, 115, 39541, 1142, 46716, 46217, 25226, 20112, 57493, 46236, 2205, 46749, 13471, 65181, 59044, 19625, 48299, 37550, 27823, 4276, 48820, 58038, 57541, 8390, 15047, 56521, 43217, 23763, 43732, 37607, 58601, 28909, 56563, 14068, 22260, 6904, 50428, 45309, 20222, 51456, 34049, 9474, 25357, 45326, 5391, 18194, 20243, 59673, 37666, 10024, 62250, 1835, 14122, 9008, 3376, 7474, 23861, 62776, 3398, 35144, 4939, 19790, 51024, 58196, 28504, 44378, 63837, 4449, 63852, 50031, 12668, 30076, 63868, 52607, 6524, 34177, 11650, 47996, 43908, 3978, 11663, 17297, 48017, 18325, 23958, 19352, 10137, 57754, 54684, 29597, 22940, 53663, 32164, 26538, 62378, 45996, 44466, 57271, 49080, 5566, 60864, 4547, 22979, 36805, 37829, 53191, 45516, 3533, 50643, 22997, 51672, 63448, 19940, 23526, 11243, 13299, 28148, 38390]\n"
     ]
    }
   ],
   "source": [
    "print(len(formatted_dataset))\n",
    "print(formatted_dataset[0][\"cooccur_score\"])"
   ]
  },
  {
   "cell_type": "code",
   "execution_count": 20,
   "metadata": {},
   "outputs": [
    {
     "name": "stdout",
     "output_type": "stream",
     "text": [
      "{13: 0.09277796395603075, 14: 0.04451383459065021, 26: 0.18562206142104645, 30: 0.06359330343785033, 61: 0.18438719447559448, 398: 0.1779336371975716, 415: 0.11576808787573688, 423: 0.29189113674300204, 469: 0.1081063935248021, 564: 0.19702489137396648, 583: 0.19501528943561972, 845: 0.18531213371739647, 880: 0.14223389364351538, 1259: 0.18757443288596465, 1308: 0.15501803560439778, 1705: 0.21216328070131474, 1709: 0.03791830491597956, 1794: 0.13728617907379045, 2520: 0.16663687426731427, 2598: 0.1286573679763625, 2815: 0.11090192764308887, 2880: 0.26101196576389474, 2907: 0.13271776026845297, 3542: 0.24493011267554032, 3546: 0.14981223454654874, 3561: 0.21853183045234453, 3607: 0.26571528283534773, 3808: 0.1905050354671639, 4266: 0.1452222307353336, 4862: 0.1436669698679072, 4879: 0.11258037678927968, 4893: 0.19315758949280945, 5042: 0.09399647514843106, 5109: 0.24972360474824282, 5218: 0.2622855865567356, 5327: 0.16899186608340433, 5348: 0.10258439351400922, 5570: 0.18217851185153452, 5694: 0.10998748022925589, 5864: 0.11324900330331536, 5876: 0.2567786257486329, 5947: 0.08587841789362292, 6173: 0.1216995697645364, 6214: 0.30797489368316905, 6299: 0.22186423941904665, 6473: 0.29169350270445304, 6547: 0.12279618705727438, 6655: 0.25294690688106836, 6700: 0.29216515213983546, 6709: 0.3101794476881963, 6772: 0.13767809368618708, 6856: 0.16995406624017903, 6996: 0.12450346626662218, 7005: 0.17641385599374523, 7205: 0.14680462720050086, 7320: 0.16455393369442084, 7577: 0.17102942620000225, 7845: 0.16824662476111435, 7911: 0.1572716998182599, 7952: 0.09199513947770256, 8005: 0.30088462023008306, 8015: 0.13341987881681652, 8195: 0.14752471945241133, 8222: 0.10180235316466456, 8401: 0.12900081745662403, 8422: 0.20975814516531888, 8454: 0.2126281845603887, 8869: 0.11738721945192962, 9001: 0.2259576929050095, 9230: 0.14522767109687415, 9441: 0.3189742568087747, 9615: 0.09944784962844992, 9837: 0.1509986057757399, 9839: 0.15331568068700252, 10383: 0.22672927944045512, 10400: 0.20390634378941594, 10640: 0.2481881485389853, 10659: 0.1692253461948661, 10716: 0.1667651769277207, 10815: 0.1315838809791646, 10939: 0.11335656966573257, 11071: 0.21122697638933371, 11303: 0.13806753065471244, 11348: 0.1141894701651508, 11441: 0.27284067285379826, 11558: 0.1240883235338917, 11645: 0.28591822990655513, 11696: 0.16125595537162385, 12047: 0.2843793236549195, 12086: 0.137049534525746, 12351: 0.11929257878200611, 12386: 0.12026704846400295, 12732: 0.20165854810227057, 12740: 0.08659940475894139, 12901: 0.0839026598521783, 12957: 0.1358942001168943, 13050: 0.0955011713152154, 13057: 0.31483096444694547, 13341: 0.21211629169494794, 13459: 0.2298624272237272, 13479: 0.13047633591837923, 13857: 0.12829596773689628, 13888: 0.15989594597253418, 13947: 0.3963410748935104, 13965: 0.17163238558231883, 14212: 0.15608650534771218, 14438: 0.12118733675606412, 14632: 0.2398060644734404, 14709: 0.14051584377825757, 14817: 0.0965797382243821, 15061: 0.2064762680792061, 15262: 0.18308884351785157, 15359: 0.17271642806578483, 15549: 0.2021712722239154, 15600: 0.12934766729913522, 15721: 0.15490379777779514, 15782: 0.15129915325368357, 15887: 0.2108392534006481, 15972: 0.14972721692078994, 16377: 0.10635957320198879, 16470: 0.3032423778060023, 16536: 0.35099296315827355, 16970: 0.1689927553833248, 16972: 0.21335470094248257, 16993: 0.24680952479550755, 17117: 0.08509287973515585, 17416: 0.23750092475787354, 17627: 0.15763514387788594, 17671: 0.07159452899861636, 17810: 0.10080954384454868, 17929: 0.2771110684246527, 18102: 0.2242804099963861, 18131: 0.17394715058348467, 18318: 0.16780823703937522, 18332: 0.20598837742211046, 18397: 0.1739293122134282, 18693: 0.07260649144168731, 18863: 0.11059828940077168, 19107: 0.13121999680576216, 19301: 0.36841838732416343, 19432: 0.4014749950919823, 19439: 0.15575129333070048, 19742: 0.1415219103012999, 19979: 0.16546511552768062, 20011: 0.13571951273622068, 20026: 0.16138028429012702, 20232: 0.11620922881091826, 20236: 0.12958518988004186, 20346: 0.1528548280030931, 20372: 0.19235684650264914, 20441: 0.2202676211375686, 20490: 0.17240653960628735, 20624: 0.28698267464641736, 20633: 0.08831299120673533, 20762: 0.245337223342917, 20922: 0.14643035792317055, 21066: 0.45768194217379027, 21436: 0.1458291869187841, 21691: 0.20154575666108365, 22033: 0.07730416792398541, 22101: 0.10414958823484902, 22292: 0.10948722432398808, 22318: 0.14653251057467367, 22524: 0.09061760299988052, 22619: 0.09695419596225585, 22664: 0.13758125709674313, 22946: 0.22920823554536, 23103: 0.12273116288729233, 23118: 0.11547253292412916, 23172: 0.2599803001018142, 23231: 0.14520269521607845, 23283: 0.2246779193008795, 23311: 0.24427676748131813, 23316: 0.13774024499919257, 23384: 0.12031787277079173, 23526: 0.07978788356152502, 24013: 0.1260665404051772, 24024: 0.15636609420364464, 24184: 0.13610615002531218, 24421: 0.3632795144725932, 24475: 0.2860688220489545, 24527: 0.13066635324204076, 24655: 0.18813628358296505, 24721: 0.027615510078306836, 24741: 0.11745588024609262, 24787: 0.19918348825839685, 24926: 0.16043100516896686, 24941: 0.15682647018666257, 24948: 0.09768553762189469, 24957: 0.15226696830773484, 25174: 0.2888409028620323, 25340: 0.18841831534428322, 25436: 0.2277732317802011, 25715: 0.18434345460155158, 25736: 0.11362053402151327, 25779: 0.05373733838520762, 25865: 0.1697748042236718, 26141: 0.09982808293180877, 26245: 0.18801353475351695, 26267: 0.11682328432579293, 26458: 0.15569404109823967, 26481: 0.12738317663966395, 26610: 0.11870955729535337, 26800: 0.1176363803829281, 26867: 0.17558076599496808, 26953: 0.0630332283107606, 26958: 0.06758714402888928, 27020: 0.15525297121591503, 27158: 0.07137631955752959, 27160: 0.13054132490379514, 27194: 0.1508232944552892, 27715: 0.0910384091556061, 27768: 0.1460011257353093, 27806: 0.238260684047471, 27909: 0.14341035407520145, 28404: 0.1262255484672538, 28439: 0.08855151736653831, 28486: 0.1606460260578375, 28769: 0.061875137955517516, 28838: 0.14584380017487747, 28942: 0.1773594937503436, 29376: 0.16883472027243504, 29426: 0.11325787654926918, 29523: 0.29284778265829875, 29597: 0.19913843974364007, 29756: 0.1844896827211422, 29806: 0.16526064655976802, 29851: 0.10125722842492511, 29902: 0.13338192848191335, 30035: 0.1747262851245403, 30223: 0.16820119431273084, 30259: 0.10889497098032615, 30361: 0.11630806311934334, 30449: 0.23858456285263294, 30493: 0.07709005847442509, 30514: 0.18164859449013013, 30523: 0.15818142059349286, 30539: 0.07998177455998698, 31143: 0.1502389633050707, 31199: 0.10200899658264548, 31272: 0.36693410747912336, 31447: 0.10776573388013132, 31495: 0.07853295634166471, 31665: 0.08322837973853428, 31930: 0.08214707361071223, 31931: 0.22570442810253039, 31933: 0.3989865979729453, 31968: 0.1725567015513853, 31999: 0.21287633193236133, 32080: 0.10269766987392179, 32121: 0.1369992962689239, 32343: 0.2867189198899146, 32559: 0.2466402357426269, 32792: 0.08433794884616365, 32825: 0.16939568284930767, 33024: 0.17115734887844292, 33141: 0.14181562896377373, 33177: 0.2370329784420716, 33185: 0.1720962046198666, 33231: 0.12007687293483621, 33452: 0.19092109670398852, 33601: 0.22551165960953448, 33615: 0.1663013638651434, 33639: 0.17503733842309413, 33710: 0.12558298861024642, 33974: 0.1582468302888106, 34094: 0.061837201475491606, 34132: 0.1774580726381968, 34136: 0.14120855198408702, 34324: 0.23541787774267708, 34493: 0.33356498053476835, 34666: 0.2213349473353265, 34768: 0.29457656827839196, 34786: 0.10955791870003256, 34951: 0.21441705798787553, 34976: 0.09451119817937646, 35071: 0.23827989231869814, 35123: 0.15351685198189505, 35192: 0.17068685043294032, 35341: 0.1937790868604165, 35473: 0.24372022355307016, 35542: 0.07772559988822345, 35641: 0.13291237981997273, 36349: 0.0721234267233011, 36370: 0.3165097977685466, 36646: 0.17581719534678247, 36682: 0.11364129851767077, 36777: 0.22510520230259576, 36968: 0.16491296470728237, 36983: 0.1538995479556605, 37049: 0.10349809562986133, 37231: 0.13479063155471815, 37674: 0.09639719579740498, 37761: 0.15484569586807015, 37797: 0.18430776366849616, 38186: 0.24146417699720865, 38219: 0.1066959860935006, 38247: 0.12291402541364552, 38312: 0.16456006749099525, 38402: 0.14367685018717036, 38610: 0.1578088904168966, 38637: 0.20461030369427738, 38681: 0.27508370557813233, 38961: 0.2437136976816256, 39219: 0.3026489410109391, 39472: 0.1913825267486073, 39731: 0.2513074985144197, 39766: 0.19427667379848387, 39884: 0.19867362204453345, 39956: 0.23865304559161615, 39981: 0.17858963257764807, 40036: 0.21219107678211915, 40105: 0.19764253252900804, 40163: 0.0960238211197282, 40177: 0.3644597500154817, 40355: 0.2813329206122109, 40357: 0.1736873445981578, 40359: 0.09844038493746708, 40656: 0.1472227384204705, 40689: 0.09840418558557441, 41117: 0.16402631049931712, 41143: 0.4103966061707797, 41160: 0.11492979146163904, 41169: 0.12626502037786233, 41237: 0.10707018297975651, 41387: 0.1231630397102068, 41438: 0.1231493648624909, 41508: 0.08880641923233586, 41774: 0.21580563146623008, 41831: 0.3152778549089207, 41872: 0.1431236223794672, 42232: 0.13132591942140232, 42253: 0.16862221251343779, 42952: 0.12163375379527604, 42971: 0.22145764240699925, 43187: 0.3525751623148692, 43206: 0.26704085413927264, 43412: 0.06272684901635955, 43511: 0.06915062773762631, 43513: 0.2721114651669749, 43540: 0.259882299451323, 43547: 0.2238277927393586, 43674: 0.14145225589486257, 43689: 0.0967039984189183, 43722: 0.18544564713783288, 43822: 0.133810359743801, 43865: 0.1065806347531372, 43889: 0.06553235732036536, 43987: 0.08131218061624498, 44008: 0.08764567866807994, 44060: 0.12411431000812392, 44088: 0.17322097972117548, 44189: 0.11990259079205334, 44405: 0.3019173031665568, 44609: 0.1662375556378359, 44752: 0.25593728446230535, 44882: 0.2768524130750231, 45002: 0.10176603886073163, 45231: 0.19368336110815965, 45237: 0.22527078390723035, 45309: 0.11561400267025125, 45352: 0.18619419535856074, 45369: 0.25484823880636387, 45410: 0.1694691909553089, 45460: 0.1369741284419862, 45493: 0.1972576002543225, 45721: 0.14484278632023406, 45905: 0.16280450180411324, 45927: 0.15952438016898823, 46016: 0.17294437024712903, 46087: 0.07216458646123002, 46211: 0.15759207998406644, 46232: 0.20968344373130848, 46507: 0.13486708743687498, 46679: 0.25184261361823806, 46713: 0.16872743124947917, 46936: 0.09207857855572431, 46953: 0.176588717606839, 47024: 0.26223976656043374, 47133: 0.0704767539137014, 47173: 0.10853350188969704, 47424: 0.16171720256854516, 47660: 0.44220703736665096, 47889: 0.14347656041237003, 47996: 0.3432172934880686, 48030: 0.17610315235285323, 48675: 0.09766071395990432, 48765: 0.2542395844178574, 49142: 0.25029780912911154, 49334: 0.11261956349671526, 49368: 0.16849861798840327, 49373: 0.10767141046385582, 49449: 0.09672289827224635, 49614: 0.20201244928899215, 49754: 0.12715837104894753, 49949: 0.1996923400645841, 50009: 0.1376843208585546, 50027: 0.29971411677922655, 50141: 0.12941972223522405, 50309: 0.1304109902028806, 50380: 0.17120198813613474, 50462: 0.13052192663982112, 50480: 0.17758362467251712, 50577: 0.2726571102267011, 50679: 0.2990062221292161, 50715: 0.19632505459858393, 51010: 0.12507295711010294, 51066: 0.1165511809938371, 51109: 0.07257354508690476, 51461: 0.2716735032078626, 51546: 0.12984679578813543, 51587: 0.06963833432544714, 51905: 0.17324267600490895, 51934: 0.1543174807610435, 52039: 0.1214458847746426, 52047: 0.23418128668320068, 52101: 0.04212769258186947, 52403: 0.11726395468612895, 52469: 0.13076896327503207, 52574: 0.11640439312598254, 52642: 0.02698904182605073, 52742: 0.14108969782975975, 52889: 0.1205045027345567, 53055: 0.0946963123159044, 53180: 0.11954131350834425, 53187: 0.08256412887061491, 53449: 0.28006905251168335, 53551: 0.1520684739100111, 53620: 0.18426650620163662, 53954: 0.2456240264655554, 54026: 0.06180283311280046, 54374: 0.13698669271812894, 54430: 0.10118932523468416, 54566: 0.06054351730142386, 54576: 0.11404477278035381, 54746: 0.08248499724590058, 54767: 0.19330754140424497, 55055: 0.18171680368248375, 55334: 0.14549874336071134, 55406: 0.07997142159655737, 55468: 0.15721173596631527, 55687: 0.20014070100131853, 55819: 0.09064911269989352, 55876: 0.1544649877615485, 55932: 0.12954877779393204, 55940: 0.2598629239359513, 55977: 0.112681360815824, 56968: 0.16709531087921273, 56996: 0.09842381000984915, 57128: 0.20410456684456604, 57824: 0.22916222715686282, 57924: 0.11445099020870128, 58038: 0.15200335978962554, 58113: 0.18899451679520107, 58398: 0.1310964209845418, 58416: 0.10172404275401727, 58561: 0.13412464934348392, 58585: 0.20334315907173764, 58857: 0.10595730404218712, 58970: 0.1569985484243657, 59012: 0.22068693383304172, 59023: 0.16379737983805476, 59144: 0.1275059128671468, 59523: 0.15993903339445953, 59570: 0.13072632673241216, 59701: 0.17647651345617327, 59811: 0.24160804432886215, 59855: 0.17927844548943764, 59873: 0.22395944321095607, 59882: 0.12073692671588716, 60142: 0.13689342535028232, 60197: 0.12302991212278458, 60205: 0.0961500621401869, 60327: 0.13365981086364792, 60457: 0.11085202772059527, 60699: 0.14088062150975325, 60769: 0.07999919202898123, 60788: 0.10977682441328453, 60980: 0.12732216852691783, 61175: 0.1406692588158834, 61545: 0.18930835159182732, 61868: 0.15718307693754738, 62096: 0.12115969498100997, 62443: 0.098993173219381, 62536: 0.16737893913099924, 62939: 0.14413288908364336, 62960: 0.2299255936323925, 63014: 0.14238144357327798, 63039: 0.08105008515833853, 63233: 0.19684331599098281, 63384: 0.3396532651366029, 63478: 0.32237426835271143, 63527: 0.1738025288797763, 63544: 0.18436021756395096, 63584: 0.09535465564246869, 63785: 0.19003177537163396, 63832: 0.3607803873685998, 63909: 0.10630084211047607, 63962: 0.15697117723888637, 64017: 0.13044593892538509, 64057: 0.12195354189682568, 64162: 0.23560881525815142, 64321: 0.23769682515511614, 64485: 0.1540983223575019, 64571: 0.15610889287938462, 64776: 0.13668314564129408, 64847: 0.23907688093393037, 65046: 0.13339119097938634, 65154: 0.12789581887179266, 65171: 0.21142653351538962, 65246: 0.22668828290350532, 65348: 0.19488097478396565, 65454: 0.10342375519635469, 65480: 0.09448999155526998}\n"
     ]
    }
   ],
   "source": [
    "# 定义文件路径\n",
    "cosi_file_path = \"/mnt/file2/changye/dataset/CompCap_interp/CompCap_cosi_weight/cosi_feature_list.txt\"  # 将此替换为你的文件路径\n",
    "\n",
    "# 读取文件并转换为字典\n",
    "osi_dict = {}\n",
    "with open(cosi_file_path, \"r\") as file:\n",
    "    for line in file:\n",
    "        key, value = line.strip().split(\",\")  # 按逗号分割每行\n",
    "        osi_dict[int(key)] = float(value)    # 将 key 转为 int, value 转为 float\n",
    "\n",
    "# 输出结果\n",
    "print(osi_dict)"
   ]
  },
  {
   "cell_type": "code",
   "execution_count": 21,
   "metadata": {},
   "outputs": [
    {
     "name": "stderr",
     "output_type": "stream",
     "text": [
      "100%|██████████| 104996/104996 [00:01<00:00, 61535.56it/s]\n"
     ]
    }
   ],
   "source": [
    "set_cosi_key=set(osi_dict.keys())\n",
    "cosi_coocur_data={}\n",
    "for f_data in tqdm.tqdm(formatted_dataset):\n",
    "    score=0\n",
    "    for value in f_data['cooccur_score']:\n",
    "        if value in set_cosi_key:\n",
    "            score+=osi_dict[value]\n",
    "    f_data[\"Cooccur_score\"]=score"
   ]
  },
  {
   "cell_type": "code",
   "execution_count": 23,
   "metadata": {},
   "outputs": [
    {
     "name": "stdout",
     "output_type": "stream",
     "text": [
      "3.4248813225319137\n"
     ]
    }
   ],
   "source": [
    "print(formatted_dataset[-1][\"Cooccur_score\"])"
   ]
  },
  {
   "cell_type": "code",
   "execution_count": 24,
   "metadata": {},
   "outputs": [
    {
     "name": "stderr",
     "output_type": "stream",
     "text": [
      "Saving the dataset (17/17 shards): 100%|██████████| 104996/104996 [00:11<00:00, 9033.30 examples/s] \n"
     ]
    }
   ],
   "source": [
    "dataset = Dataset.from_list(formatted_dataset)\n",
    "dataset.save_to_disk(\"/mnt/file2/changye/dataset/Compcap-cosi-full\")"
   ]
  },
  {
   "cell_type": "code",
   "execution_count": 39,
   "metadata": {},
   "outputs": [],
   "source": [
    "for item in formatted_dataset:\n",
    "    item[\"l0\"]=float(item[\"l0\"])"
   ]
  },
  {
   "cell_type": "code",
   "execution_count": 25,
   "metadata": {},
   "outputs": [],
   "source": [
    "# 1. 根据 l0 字段从大到小对数据集排序\n",
    "formatted_dataset_sorted = sorted(formatted_dataset, key=lambda x: x[\"Cooccur_score\"], reverse=True)"
   ]
  },
  {
   "cell_type": "code",
   "execution_count": 26,
   "metadata": {},
   "outputs": [
    {
     "name": "stdout",
     "output_type": "stream",
     "text": [
      "8.563420453209666\n",
      "0\n"
     ]
    }
   ],
   "source": [
    "print(formatted_dataset_sorted[0][\"Cooccur_score\"])\n",
    "print(formatted_dataset_sorted[-1][\"Cooccur_score\"])"
   ]
  },
  {
   "cell_type": "code",
   "execution_count": 27,
   "metadata": {},
   "outputs": [
    {
     "name": "stderr",
     "output_type": "stream",
     "text": [
      "Processing splits:   0%|          | 0/4 [00:00<?, ?split/s]\n",
      "Formatting q0_25:   0%|          | 0/5 [00:00<?, ?column/s]"
     ]
    },
    {
     "name": "stderr",
     "output_type": "stream",
     "text": [
      "Formatting q0_25: 100%|██████████| 5/5 [00:00<00:00, 142.29column/s]\n",
      "Saving the dataset (3/3 shards): 100%|██████████| 26249/26249 [00:01<00:00, 16543.75 examples/s]\n",
      "Formatting q25_50: 100%|██████████| 5/5 [00:00<00:00, 122.79column/s]\n",
      "Saving the dataset (4/4 shards): 100%|██████████| 26249/26249 [00:02<00:00, 10605.15 examples/s]\n",
      "Formatting q50_75: 100%|██████████| 5/5 [00:00<00:00, 26.86column/s]\n",
      "Saving the dataset (6/6 shards): 100%|██████████| 26249/26249 [00:03<00:00, 6833.18 examples/s]\n",
      "Formatting q75_100: 100%|██████████| 5/5 [00:00<00:00, 54.24column/s]\n",
      "Saving the dataset (6/6 shards): 100%|██████████| 26249/26249 [00:03<00:00, 7362.37 examples/s]\n",
      "Processing splits: 100%|██████████| 4/4 [01:19<00:00, 19.92s/split]"
     ]
    },
    {
     "name": "stdout",
     "output_type": "stream",
     "text": [
      "q0_25 dataset:\n",
      "Dataset({\n",
      "    features: ['id', 'image', 'conversations', 'cooccur_score', 'Cooccur_score'],\n",
      "    num_rows: 26249\n",
      "})\n",
      "q25_50 dataset:\n",
      "Dataset({\n",
      "    features: ['id', 'image', 'conversations', 'cooccur_score', 'Cooccur_score'],\n",
      "    num_rows: 26249\n",
      "})\n",
      "q50_75 dataset:\n",
      "Dataset({\n",
      "    features: ['id', 'image', 'conversations', 'cooccur_score', 'Cooccur_score'],\n",
      "    num_rows: 26249\n",
      "})\n",
      "q75_100 dataset:\n",
      "Dataset({\n",
      "    features: ['id', 'image', 'conversations', 'cooccur_score', 'Cooccur_score'],\n",
      "    num_rows: 26249\n",
      "})\n"
     ]
    },
    {
     "name": "stderr",
     "output_type": "stream",
     "text": [
      "\n"
     ]
    }
   ],
   "source": [
    "\n",
    "\n",
    "# 2. 将数据集分成四个分位\n",
    "num_samples = len(formatted_dataset_sorted)\n",
    "q1 = int(num_samples * 0.25)\n",
    "q2 = int(num_samples * 0.5)\n",
    "q3 = int(num_samples * 0.75)\n",
    "\n",
    "# 将数据集切分为四个分位\n",
    "split_datasets = {\n",
    "    \"q0_25\": formatted_dataset_sorted[:q1],\n",
    "    \"q25_50\": formatted_dataset_sorted[q1:q2],\n",
    "    \"q50_75\": formatted_dataset_sorted[q2:q3],\n",
    "    \"q75_100\": formatted_dataset_sorted[q3:]\n",
    "}\n",
    "\n",
    "# 3. 转换为 HuggingFace Dataset 格式并保存，显示进度条\n",
    "hf_datasets = {}\n",
    "for split_name, split_data in tqdm.tqdm(split_datasets.items(), desc=\"Processing splits\", unit=\"split\"):\n",
    "     # 初始化一个空字典用于存储格式化数据\n",
    "    formatted_data = {}\n",
    "    \n",
    "    # 添加进度条，逐列转换数据\n",
    "    for key in tqdm.tqdm(split_data[0].keys(), desc=f\"Formatting {split_name}\", unit=\"column\",position=1):\n",
    "        formatted_data[key] = [d[key] for d in split_data]\n",
    "    \n",
    "    # 将格式化的数据创建为 HuggingFace 数据集\n",
    "    hf_datasets[split_name] = Dataset.from_dict(formatted_data)\n",
    "\n",
    "    # 保存每个分位数据集到磁盘\n",
    "    hf_datasets[split_name].save_to_disk(f\"./{split_name}_dataset\")\n",
    "\n",
    "# 输出一下分割的数据集\n",
    "for split_name, dataset in hf_datasets.items():\n",
    "    print(f\"{split_name} dataset:\")\n",
    "    print(dataset)"
   ]
  },
  {
   "cell_type": "code",
   "execution_count": 32,
   "metadata": {},
   "outputs": [
    {
     "ename": "TypeError",
     "evalue": "object of type 'float' has no len()",
     "output_type": "error",
     "traceback": [
      "\u001b[0;31m---------------------------------------------------------------------------\u001b[0m",
      "\u001b[0;31mTypeError\u001b[0m                                 Traceback (most recent call last)",
      "Cell \u001b[0;32mIn[32], line 3\u001b[0m\n\u001b[1;32m      1\u001b[0m \u001b[38;5;66;03m# from datasets import load_from_disk\u001b[39;00m\n\u001b[1;32m      2\u001b[0m \u001b[38;5;66;03m# formatted_dataset_sorted=load_from_disk(\"/mnt/file2/changye/dataset/AA_preference_coour/q0_25_dataset\")\u001b[39;00m\n\u001b[0;32m----> 3\u001b[0m \u001b[38;5;28mprint\u001b[39m(\u001b[38;5;28;43mlen\u001b[39;49m\u001b[43m(\u001b[49m\u001b[43mformatted_dataset_sorted\u001b[49m\u001b[43m[\u001b[49m\u001b[38;5;241;43m1\u001b[39;49m\u001b[43m]\u001b[49m\u001b[43m[\u001b[49m\u001b[38;5;124;43m'\u001b[39;49m\u001b[38;5;124;43mCooccur_score\u001b[39;49m\u001b[38;5;124;43m'\u001b[39;49m\u001b[43m]\u001b[49m\u001b[43m)\u001b[49m)\n",
      "\u001b[0;31mTypeError\u001b[0m: object of type 'float' has no len()"
     ]
    }
   ],
   "source": [
    "# from datasets import load_from_disk\n",
    "# formatted_dataset_sorted=load_from_disk(\"/mnt/file2/changye/dataset/AA_preference_coour/q0_25_dataset\")\n",
    "print(len(formatted_dataset_sorted[1]['Cooccur_score']))"
   ]
  },
  {
   "cell_type": "code",
   "execution_count": null,
   "metadata": {},
   "outputs": [],
   "source": [
    "print(cosi_coocur_data['15557.jpg'])"
   ]
  },
  {
   "cell_type": "code",
   "execution_count": 35,
   "metadata": {},
   "outputs": [
    {
     "name": "stderr",
     "output_type": "stream",
     "text": [
      "/tmp/ipykernel_2734519/2250908489.py:36: UserWarning: No artists with labels found to put in legend.  Note that artists whose label start with an underscore are ignored when legend() is called with no argument.\n",
      "  plt.legend(fontsize=12)\n"
     ]
    },
    {
     "data": {
      "image/png": "[encoded data removed]",
      "text/plain": [
       "<Figure size 800x600 with 1 Axes>"
      ]
     },
     "metadata": {},
     "output_type": "display_data"
    }
   ],
   "source": [
    "import matplotlib.pyplot as plt\n",
    "import numpy as np\n",
    "import matplotlib.pyplot as plt\n",
    "import numpy as np\n",
    "from scipy.interpolate import make_interp_spline\n",
    "from collections import Counter\n",
    "\n",
    "# 假设 data_list 是一个包含数值的列表\n",
    "# 例如：\n",
    "# data_list = [1, 2, 2, 3, 3, 3, 4, 4, 4, 4]\n",
    "# values_list = [tensor['Cooccur'].cpu().item() if tensor['Cooccur'].is_cuda else tensor['Cooccur'].item() for tensor in formatted_dataset_sorted]\n",
    "values_list=[float(tensor[\"Cooccur_score\"]) for tensor in formatted_dataset_sorted]\n",
    "# 统计频率\n",
    "num_bins = 10\n",
    "\n",
    "# 生成直方图\n",
    "frequencies, bin_edges = np.histogram(values_list, bins=num_bins)\n",
    "\n",
    "# 计算每个区间的中心点（用于插值）\n",
    "bin_centers = (bin_edges[:-1] + bin_edges[1:]) / 2\n",
    "\n",
    "# 使用样条插值将直方图转换为平滑曲线\n",
    "bin_centers_smooth = np.linspace(bin_centers[0], bin_centers[-1], 300)  # 插值点\n",
    "frequencies_smooth = make_interp_spline(bin_centers, frequencies)(bin_centers_smooth)\n",
    "\n",
    "# 绘图\n",
    "plt.figure(figsize=(8, 6))\n",
    "plt.plot(bin_centers_smooth, frequencies_smooth, color='orange', lw=2)\n",
    "\n",
    "\n",
    "# 样式设置\n",
    "plt.grid(which='both', linestyle='--', linewidth=0.5, alpha=0.7)\n",
    "plt.xlabel('cosine similarity score of data ', fontsize=14)\n",
    "plt.ylabel('Frequency', fontsize=14)\n",
    "plt.title('The distribution of Compcap data based on cosine similarity score', fontsize=16)\n",
    "plt.legend(fontsize=12)\n",
    "plt.show()\n"
   ]
  }
 ],
 "metadata": {
  "kernelspec": {
   "display_name": "sae",
   "language": "python",
   "name": "python3"
  },
  "language_info": {
   "codemirror_mode": {
    "name": "ipython",
    "version": 3
   },
   "file_extension": ".py",
   "mimetype": "text/x-python",
   "name": "python",
   "nbconvert_exporter": "python",
   "pygments_lexer": "ipython3",
   "version": "3.10.16"
  }
 },
 "nbformat": 4,
 "nbformat_minor": 2
}
