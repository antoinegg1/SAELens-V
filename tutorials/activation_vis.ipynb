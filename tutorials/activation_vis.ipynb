{
 "cells": [
  {
   "cell_type": "markdown",
   "metadata": {},
   "source": [
    "## activation_visualization\n",
    "\n",
    "We implemented activation visualization using SAE on LLava-Mistral 7B, enabling us to separately compute the l0 of SAE on text tokens and image tokens."
   ]
  },
  {
   "cell_type": "code",
   "execution_count": 1,
   "metadata": {},
   "outputs": [],
   "source": [
    "import os\n",
    "import pdb\n",
    "from typing import Any, cast\n",
    "import torch.nn.functional as F\n",
    "import matplotlib.pyplot as plt\n",
    "import numpy as np\n",
    "import torch\n",
    "from datasets import Dataset, DatasetDict, load_dataset, load_from_disk\n",
    "from PIL import Image\n",
    "from sae_lens import SAE\n",
    "from torchvision.transforms.functional import to_pil_image\n",
    "from transformer_lens.HookedLlava import HookedLlava\n",
    "from transformer_lens import HookedChameleon\n",
    "from transformers import LlavaNextForConditionalGeneration, LlavaNextProcessor\n",
    "from transformers import ChameleonForConditionalGeneration, AutoTokenizer, ChameleonProcessor\n",
    "import transformer_lens.utils as utils\n",
    "from transformer_lens.hook_points import (\n",
    "    HookPoint,\n",
    ")\n",
    "import seaborn as sns\n",
    "from sae_lens.activation_visualization import load_llava_model, load_chameleon_model,load_sae,prepare_input,generate_with_saev,map_patches_to_image,overlay_activation_on_image"
   ]
  },
  {
   "cell_type": "markdown",
   "metadata": {},
   "source": [
    "Model loading"
   ]
  },
  {
   "cell_type": "code",
   "execution_count": null,
   "metadata": {},
   "outputs": [
    {
     "data": {
      "application/vnd.jupyter.widget-view+json": {
       "model_id": "6088c13ee1af47be8b340e416ae9ba65",
       "version_major": 2,
       "version_minor": 0
      },
      "text/plain": [
       "Loading checkpoint shards:   0%|          | 0/4 [00:00<?, ?it/s]"
      ]
     },
     "metadata": {},
     "output_type": "display_data"
    },
    {
     "name": "stdout",
     "output_type": "stream",
     "text": [
      "Loaded pretrained model llava-hf/llava-v1.6-mistral-7b-hf into HookedTransformer\n"
     ]
    },
    {
     "name": "stderr",
     "output_type": "stream",
     "text": [
      "/home/saev/changye/SAELens-V/sae_lens/sae.py:136: UserWarning: \n",
      "This SAE has non-empty model_from_pretrained_kwargs. \n",
      "For optimal performance, load the model like so:\n",
      "model = HookedSAETransformer.from_pretrained_no_processing(..., **cfg.model_from_pretrained_kwargs)\n",
      "  warnings.warn(\n"
     ]
    }
   ],
   "source": [
    "MODEL_NAME = \"llava-hf/llava-v1.6-mistral-7b-hf\"\n",
    "model_path = \"/mnt/data/changye/model/llava\"\n",
    "device = \"cuda:5\"\n",
    "sae_device = \"cuda:6\"\n",
    "sae_path = \"/mnt/data/changye/checkpoints/xepk4xea/final_163840000\"\n",
    "dataset_path = \"/mnt/data/changye/data/obelics3k-tokenized-llava4096\"\n",
    "columns_to_read = [\"input_ids\", \"pixel_values\", \"attention_mask\", \"image_sizes\"]\n",
    "\n",
    "save_path = \"/home/saev/changye/SAELens-V/activation_visualization\"\n",
    "\n",
    "\n",
    "(\n",
    "        processor,\n",
    "        vision_model,\n",
    "        vision_tower,\n",
    "        multi_modal_projector,\n",
    "        hook_language_model,\n",
    ") = load_llava_model(MODEL_NAME, model_path, device)\n",
    "\n",
    "sae = load_sae(sae_path, sae_device)\n",
    "\n",
    "\n",
    "\n"
   ]
  },
  {
   "cell_type": "markdown",
   "metadata": {},
   "source": [
    "Input loading"
   ]
  },
  {
   "cell_type": "code",
   "execution_count": 3,
   "metadata": {},
   "outputs": [
    {
     "name": "stdout",
     "output_type": "stream",
     "text": [
      "tensor([[    1,   733, 16289, 28793,  1824,   349,  4894,   297,   272,  3469,\n",
      "         28804, 32000, 28705,   733, 28748, 16289, 28793]], device='cuda:5')\n"
     ]
    }
   ],
   "source": [
    "example_prompt = \"What is shown in the image?\"\n",
    "# example_prompt = \" \"\n",
    "image_path = \"/home/saev/changye/SAELens-V/image_source/R.jpg\"\n",
    "inputs, image = prepare_input(processor,device, image_path, example_prompt)\n",
    "print(inputs['input_ids'])\n",
    "# i, j = 0, 5\n",
    "\n",
    "# input_ids = inputs['input_ids']\n",
    "\n",
    "# tmp=input_ids[0, j].clone()\n",
    "# tensor_without_element = torch.cat([input_ids[0, :j], input_ids[0,(j+1):]])\n",
    "# input_ids = torch.cat([tensor_without_element[:i],tmp.unsqueeze(0),tensor_without_element[i:]])\n",
    "# inputs['input_ids']=input_ids.unsqueeze(0)\n",
    "# print(inputs['input_ids'])"
   ]
  },
  {
   "cell_type": "markdown",
   "metadata": {},
   "source": [
    "Generate"
   ]
  },
  {
   "cell_type": "code",
   "execution_count": 4,
   "metadata": {},
   "outputs": [
    {
     "data": {
      "application/vnd.jupyter.widget-view+json": {
       "model_id": "6160e86b57394ca584a047d4bdf900b7",
       "version_major": 2,
       "version_minor": 0
      },
      "text/plain": [
       "  0%|          | 0/30 [00:00<?, ?it/s]"
      ]
     },
     "metadata": {},
     "output_type": "display_data"
    },
    {
     "name": "stdout",
     "output_type": "stream",
     "text": [
      "[INST] What is shown in the image?  [/INST] In the image, we see a lively scene of a group of children, most likely boys, playing basketball. They are wearing purple and white uniform\n",
      "torch.Size([1192, 65536])\n"
     ]
    }
   ],
   "source": [
    "total_activation_l1_norms_list,patch_features_list,feature_act_list,image_indice=generate_with_saev(\n",
    "        inputs, hook_language_model, processor, save_path, image, sae, sae_device\n",
    "    )\n",
    "feature_act_list=[feature_act[0] for feature_act in feature_act_list]\n",
    "print(feature_act_list[0].shape)"
   ]
  },
  {
   "cell_type": "code",
   "execution_count": 91,
   "metadata": {},
   "outputs": [
    {
     "name": "stdout",
     "output_type": "stream",
     "text": [
      "tensor([   5,    6,    7,  ..., 1178, 1179, 1180])\n"
     ]
    }
   ],
   "source": [
    "print(image_indice)"
   ]
  },
  {
   "cell_type": "markdown",
   "metadata": {},
   "source": [
    "Activation Visualization"
   ]
  },
  {
   "cell_type": "code",
   "execution_count": 5,
   "metadata": {},
   "outputs": [],
   "source": [
    "current_activation_map = map_patches_to_image(total_activation_l1_norms_list[0],max_val=1000)\n",
    "final_image = overlay_activation_on_image(image, current_activation_map,alpha=128)\n",
    "final_image.save(os.path.join(save_path, f\"result.png\"))"
   ]
  },
  {
   "cell_type": "code",
   "execution_count": 6,
   "metadata": {},
   "outputs": [],
   "source": [
    "text_act_list = []\n",
    "for feature_act in feature_act_list:\n",
    "    all_indices = torch.arange(feature_act.shape[0])\n",
    "    combined_indices = torch.cat((all_indices,image_indice))\n",
    "    unique,counts=torch.unique(combined_indices,return_counts=True)\n",
    "    difference = unique[counts == 1]\n",
    "    # print(all_indices.shape)\n",
    "    # print(combined_indices.shape)\n",
    "    # print(difference)\n",
    "    text_act_list.append(feature_act[difference])"
   ]
  },
  {
   "cell_type": "code",
   "execution_count": null,
   "metadata": {},
   "outputs": [
    {
     "name": "stdout",
     "output_type": "stream",
     "text": [
      "torch.Size([16])\n"
     ]
    }
   ],
   "source": [
    "# text_act_count_list=[(text_act!=0).sum(1) for text_act in text_act_list]\n",
    "# print(text_act_count_list[0].shape)"
   ]
  },
  {
   "cell_type": "markdown",
   "metadata": {},
   "source": [
    "Global Activation"
   ]
  },
  {
   "cell_type": "code",
   "execution_count": null,
   "metadata": {},
   "outputs": [
    {
     "data": {
      "image/png": "[encoded data removed]",
      "text/plain": [
       "<Figure size 1000x600 with 1 Axes>"
      ]
     },
     "metadata": {},
     "output_type": "display_data"
    },
    {
     "name": "stdout",
     "output_type": "stream",
     "text": [
      "high_values [259735.06     1672.4127 259735.06     1672.4128 259735.06     1672.4131\n",
      " 259735.08     1672.4128 259735.06     1672.4127 259735.06     1672.4128\n",
      " 259735.06     1672.4131 259735.08     1672.4128 259735.06     1672.4127\n",
      " 259735.06     1672.4128 259735.06     1672.4131 259735.08     1672.4128\n",
      " 259735.06     1672.4127 259735.06     1672.4128 259735.06     1672.4131\n",
      " 259735.08     1672.4128 259735.06     1672.4127 259735.06     1672.4128\n",
      " 259735.06     1672.4131 259735.08     1672.4128 259735.06     1672.4127\n",
      " 259735.06     1672.4128 259735.06     1672.4131 259735.08     1672.4128\n",
      " 259735.06     1672.4127 259735.06     1672.4128 259735.06     1672.4131\n",
      " 259735.08     1672.4128 259735.06     1672.4127 259735.06     1672.4128]\n"
     ]
    }
   ],
   "source": [
    "global_activation_l1_norms = torch.cat(total_activation_l1_norms_list)\n",
    "\n",
    "global_activation_l1_norms_flat = global_activation_l1_norms.flatten()\n",
    "\n",
    "\n",
    "global_activation_l1_norms_np = global_activation_l1_norms_flat.cpu().numpy()\n",
    "\n",
    "min_value = global_activation_l1_norms_np.min()\n",
    "if min_value <= 0:\n",
    "    shift = abs(min_value) + 1e-6\n",
    "    global_activation_l1_norms_np_shifted = global_activation_l1_norms_np + shift\n",
    "else:\n",
    "    global_activation_l1_norms_np_shifted = global_activation_l1_norms_np\n",
    "\n",
    "low_values = global_activation_l1_norms_np[global_activation_l1_norms_np < 1500]\n",
    "high_values = global_activation_l1_norms_np[global_activation_l1_norms_np >= 1500]\n",
    "\n",
    "plt.figure(figsize=(10, 6))\n",
    "plt.hist(low_values, bins=50, color='skyblue', edgecolor='black', alpha=0.7)\n",
    "plt.title('Low Range of Activation L1 Norms', fontsize=16)\n",
    "plt.xlabel('Activation L1 Norms', fontsize=14)\n",
    "plt.ylabel('Frequency', fontsize=14)\n",
    "plt.show()\n",
    "\n",
    "print(\"high_values\",high_values)\n",
    "\n",
    "# plt.figure(figsize=(10, 6))\n",
    "# plt.hist(high_values, bins=50, color='skyblue', edgecolor='black', alpha=0.7)\n",
    "# plt.title('High Range of Activation L1 Norms', fontsize=16)\n",
    "# plt.xlabel('Activation L1 Norms', fontsize=14)\n",
    "# plt.ylabel('Frequency', fontsize=14)\n",
    "# plt.show()"
   ]
  },
  {
   "cell_type": "code",
   "execution_count": 10,
   "metadata": {},
   "outputs": [
    {
     "name": "stdout",
     "output_type": "stream",
     "text": [
      "(60,)\n"
     ]
    }
   ],
   "source": [
    "print(high_values.shape)"
   ]
  },
  {
   "cell_type": "code",
   "execution_count": null,
   "metadata": {},
   "outputs": [
    {
     "name": "stdout",
     "output_type": "stream",
     "text": [
      "torch.Size([576])\n",
      "torch.Size([576])\n"
     ]
    }
   ],
   "source": [
    "# patch_indices = torch.stack(\n",
    "#         (valid_indices[:576], valid_indices[576:]), dim=1\n",
    "#     )\n",
    "#     patch_features = feature_acts[:, patch_indices]\n",
    "l0_feature_list = []\n",
    "for patch_feature in patch_features_list:\n",
    "    patch_feature=(patch_feature!=0).sum(-1)\n",
    "    patch_feature=patch_feature.sum(-1)\n",
    "    l0_feature_list.append(patch_feature)\n",
    "print(l0_feature_list[0].shape)\n",
    "global_activation_l0_norms = torch.stack(l0_feature_list).sum(0)/len(l0_feature_list)\n",
    "print(global_activation_l0_norms.shape)\n"
   ]
  }
 ],
 "metadata": {
  "kernelspec": {
   "display_name": "changyesae",
   "language": "python",
   "name": "python3"
  },
  "language_info": {
   "codemirror_mode": {
    "name": "ipython",
    "version": 3
   },
   "file_extension": ".py",
   "mimetype": "text/x-python",
   "name": "python",
   "nbconvert_exporter": "python",
   "pygments_lexer": "ipython3",
   "version": "3.10.15"
  }
 },
 "nbformat": 4,
 "nbformat_minor": 2
}
